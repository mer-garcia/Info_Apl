{
  "nbformat": 4,
  "nbformat_minor": 0,
  "metadata": {
    "colab": {
      "provenance": [],
      "authorship_tag": "ABX9TyNlz+qOCWH2U3J4Htv68fYj",
      "include_colab_link": true
    },
    "kernelspec": {
      "name": "python3",
      "display_name": "Python 3"
    },
    "language_info": {
      "name": "python"
    }
  },
  "cells": [
    {
      "cell_type": "markdown",
      "metadata": {
        "id": "view-in-github",
        "colab_type": "text"
      },
      "source": [
        "<a href=\"https://colab.research.google.com/github/mer-garcia/Info_Apl/blob/main/Tarea2_py.ipynb\" target=\"_parent\"><img src=\"https://colab.research.google.com/assets/colab-badge.svg\" alt=\"Open In Colab\"/></a>"
      ]
    },
    {
      "cell_type": "code",
      "execution_count": null,
      "metadata": {
        "id": "9ryjnZC1AmAk"
      },
      "outputs": [],
      "source": [
        "#Ejercicios 1\n",
        "# HOLA PRueba de cambios\n",
        "# Introducción\n",
        "# Una expresión puede ser una operación aritmetica\n",
        "\n",
        "print(6 + 9)                       # 15\n",
        "print(3 - 1)                       # 2\n",
        "print(1 * 1)                       # 1\n",
        "print(8 / 5)                       # 1.6\n",
        "print(2 ** 4)                      # 8\n",
        "print(8 % 3)                       # 5.6\n",
        "print(9 // 4)                      # 2\n",
        "print(15<6)                        # True\n",
        "print(2.5 * 1.5 * 3)               # 11.25\n",
        "print(2j + 2 + 3j + 5)             # 5j+7\n",
        "print('Hola mundo')                # Hola Mundo\n",
        "print(['Mar', 2, 5])               # ['Mar', 2, 5]\n",
        "print({'Nombre':'Tu nombre'})      # ['Nombre':'Tu nombre']\n",
        "print({'Algo', 2.67, 9.5})         # ['Algo, 2.67, 9.5]\n",
        "print(('Lag', 6.8, 7.5, 9))        # ['Lag', 6.8, 7.5,9]\n",
        "\n",
        "# Tipos de datos\n",
        "\n",
        "print(type(15<6))                       # <class 'bool'>\n",
        "print(type(2.5 * 1.5 * 3))              # <class 'float'>\n",
        "print(type(2j + 2 + 3j + 5))            # 5j+7\n",
        "print(type('Hola mundo'))               # 'Hola mundo'\n",
        "print(type(['Mar', 2, 5]))              # 'Mar, 2, 5\n",
        "print(type({'Nombre':'Tu nombre'}))     # <class 'dict'>\n",
        "print(type({'Algo', 2.67, 9.5}))        # <class 'set'>\n",
        "print(type(('Lag', 6.8, 7.5, 9)))       # <class 'tuple'>"
      ]
    }
  ]
}