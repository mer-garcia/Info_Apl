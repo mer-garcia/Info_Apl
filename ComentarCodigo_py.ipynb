{
  "nbformat": 4,
  "nbformat_minor": 0,
  "metadata": {
    "colab": {
      "provenance": [],
      "authorship_tag": "ABX9TyPTWkj6N+aaFMn5gyoGgE1w",
      "include_colab_link": true
    },
    "kernelspec": {
      "name": "python3",
      "display_name": "Python 3"
    },
    "language_info": {
      "name": "python"
    }
  },
  "cells": [
    {
      "cell_type": "markdown",
      "metadata": {
        "id": "view-in-github",
        "colab_type": "text"
      },
      "source": [
        "<a href=\"https://colab.research.google.com/github/mer-garcia/Info_Apl/blob/main/ComentarCodigo_py.ipynb\" target=\"_parent\"><img src=\"https://colab.research.google.com/assets/colab-badge.svg\" alt=\"Open In Colab\"/></a>"
      ]
    },
    {
      "cell_type": "code",
      "execution_count": 2,
      "metadata": {
        "colab": {
          "base_uri": "https://localhost:8080/",
          "height": 130
        },
        "id": "cYolRCPacX4S",
        "outputId": "e0753475-4f7c-4ecf-9e83-133aff9d8dd0"
      },
      "outputs": [
        {
          "output_type": "error",
          "ename": "SyntaxError",
          "evalue": "ignored",
          "traceback": [
            "\u001b[0;36m  File \u001b[0;32m\"<ipython-input-2-eff61948a546>\"\u001b[0;36m, line \u001b[0;32m10\u001b[0m\n\u001b[0;31m    t=(0:n-1)*dt;\u001b[0m\n\u001b[0m        ^\u001b[0m\n\u001b[0;31mSyntaxError\u001b[0m\u001b[0;31m:\u001b[0m invalid syntax\n"
          ]
        }
      ],
      "source": [
        "#La transformada rápida de Fourier FFT es un algoritmo que reduce el tiempo de cálculo de n2 pasos a n·log2(n). \n",
        "#El único requisito es que el número de puntos en la serie tiene que ser una potencia de 2 (2n puntos), por ejemplo 32, 1024, 4096, etc.\n",
        "#Conocido el intervalo de tiempo Δt o la frecuencia de muestreo Δt=1/fs y el número de pares de datos n (potencia de 2), \n",
        "#creamos el vector de tiempos t y el vector de frecuencias angulares ω del siguiente modo:\n",
        "\n",
        "#intervalo de tiempo Δt o la frecuencia de muestreo Δt=1/fs y el \n",
        "#número de pares de datos n (potencia de 2)\n",
        "#vector de tiempos t\n",
        "#vector de frecuencias angulares ω\n",
        "n=length(x);\n",
        "t=(0:n-1)*dt;\n",
        "dw=2*pi/(n*dt);\n",
        "w=(0:n-1)*dw;\n",
        "\n",
        "\n",
        "#serie temporal\n",
        "#Construir una serie temporal (x,t) formada por n=214=16384 pares de datos\n",
        "#tomando un intervalo de tiempo Δt=0.4 s, o bien una frecuencia de muestreo de fs=2.5 Hz. El tiempo final es tfinal=16383·0.4=6553.2 s\n",
        "n=2^14;\n",
        "dt=0.4;\n",
        "t=(0:n-1)*dt; %vector de tiempos\n",
        "x=cos(t)+0.5*cos(3*t)+0.4*cos(3.5*t)+0.7*cos(4*t)+0.2*cos(6*t);\n",
        "\n",
        "#amplitud-fase vs. frecuencias\n",
        "#Calcular la transformada rápida de Fourier fft y la guardamos en el vector g\n",
        "g=fft(x);\n",
        "#Calculamos la potencia power: el cuadrado del valor absoluto de cada elemento de g.\n",
        "power=abs(g).^2;\n",
        "dw=2*pi/(n*dt);\n",
        "#Crear el array de frecuencias ω como en el cuadro anterior\n",
        "w=(0:n-1)*dw; #vector de frecuencias angulares\n",
        "\n",
        "#Representar gráficamente power en términos de la frecuencia angular ω\n",
        "plot(w,power)\n",
        "xlabel('\\omega')\n",
        "ylabel('P(\\omega)')\n",
        "title('Espectro de potencia')\n",
        "\n",
        "#Para visualizaar unicamente frecuecnias positivas\n",
        "n=2^14;\n",
        "dt=0.4;\n",
        "t=(0:n-1)*dt; #vector de tiempos\n",
        "x=cos(t)+0.5*cos(3*t)+0.4*cos(3.5*t)+0.7*cos(4*t)+0.2*cos(6*t);\n",
        "\n",
        "#amplitud-fase vs. frecuencias\n",
        "g=fft(x);\n",
        "power=abs(g).^2;\n",
        "dw=2*pi/(n*dt);\n",
        "w=(0:n-1)*dw; \n",
        "wc=pi/dt; #frecuencia angular crítica\n",
        "plot(w,power)\n",
        "xlim([0 wc])\n",
        "\n",
        "xlabel('\\omega')\n",
        "ylabel('P(\\omega)')\n",
        "grid on\n",
        "title('Espectro de potencia')\n",
        "\n",
        "#efecto frecuencia de muestreo\n",
        "fs=2; #frecuencia de muestreo\n",
        "n=16; #número de datos\n",
        "dt=1/fs;\n",
        "t=(0:n-1)*dt;\n",
        "x=t.*exp(-t); #muestras, datos\n",
        "\n",
        "subplot(2,1,1)\n",
        "tt=0:0.05:8;\n",
        "xx=tt.*exp(-tt);\n",
        "plot(tt,xx,'b',t,x,'ro','markersize',4,'markeredgecolor','r',\n",
        "'markerfacecolor','r')\n",
        "xlabel('t')\n",
        "ylabel('x')\n",
        "title('f(t)')\n",
        "\n",
        "subplot(2,1,2)\n",
        "wc=pi*fs; #frecuencia límite de Nyquist\n",
        "ww=-4*pi:0.1:4*pi;\n",
        "Fw=1./(1+1i*ww).^2;\n",
        "\n",
        "#transformada rápida de Fourier\n",
        "y=fft(x,n);\n",
        "g=fftshift(y);\n",
        "dw=2*pi/(n*dt);\n",
        "w=(-n/2:n/2-1)*dw;\n",
        "\n",
        "plot(ww,abs(Fw),'b',w,abs(g)/fs,'ro','markersize',3,'markeredgecolor','r',\n",
        "'markerfacecolor','r')\n",
        "set(gca,'XTick',-4*pi:2*pi:4*pi)\n",
        "set(gca,'XTickLabel',{'-4\\pi','-2\\pi','0','2\\pi','4\\pi'})\n",
        "xlim([-4*pi,4*pi])\n",
        "xlabel('\\omega')\n",
        "ylabel('|F(w)|')\n",
        "title('Transformada')\n",
        "\n"
      ]
    },
    {
      "cell_type": "code",
      "source": [],
      "metadata": {
        "id": "cSiskKZzeusX"
      },
      "execution_count": null,
      "outputs": []
    }
  ]
}