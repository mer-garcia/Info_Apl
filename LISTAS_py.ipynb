{
  "nbformat": 4,
  "nbformat_minor": 0,
  "metadata": {
    "colab": {
      "provenance": [],
      "authorship_tag": "ABX9TyM3jUEIZE6XpuwhxJGaqhh/",
      "include_colab_link": true
    },
    "kernelspec": {
      "name": "python3",
      "display_name": "Python 3"
    },
    "language_info": {
      "name": "python"
    }
  },
  "cells": [
    {
      "cell_type": "markdown",
      "metadata": {
        "id": "view-in-github",
        "colab_type": "text"
      },
      "source": [
        "<a href=\"https://colab.research.google.com/github/mer-garcia/Info_Apl/blob/main/LISTAS_py.ipynb\" target=\"_parent\"><img src=\"https://colab.research.google.com/assets/colab-badge.svg\" alt=\"Open In Colab\"/></a>"
      ]
    },
    {
      "cell_type": "code",
      "execution_count": null,
      "metadata": {
        "id": "m-VoRVAeaRzI"
      },
      "outputs": [],
      "source": [
        "#TAREA LISTAS\n",
        "# Declare an empty list\n",
        "empty_list = []\n",
        "\n",
        "# Declare a list with more than 5 items\n",
        "my_list = ['apple', 'banana', 'cherry', 'date', 'elderberry', 'fig']\n",
        "\n",
        "# Find the length of your list\n",
        "print(len(my_list))  # 6\n",
        "\n",
        "# Get the first item, the middle item and the last item of the list\n",
        "first_item = my_list[0]\n",
        "middle_item = my_list[len(my_list) // 2]\n",
        "last_item = my_list[-1]\n",
        "print(first_item, middle_item, last_item)  #apple cherry fig\n",
        "\n",
        "# Declare a list called mixed_data_types\n",
        "mixed_data_types = ['John', 32, 1.85, 'single', '123 Main St.']\n",
        "\n",
        "# Declare a list variable named it_companies\n",
        "it_companies = ['Facebook', 'Google', 'Microsoft', 'Apple', 'IBM', 'Oracle', 'Amazon']\n",
        "\n",
        "# Print the list using print()\n",
        "print(it_companies)  # ['Facebook', 'Google', 'Microsoft', 'Apple', 'IBM', 'Oracle', 'Amazon']\n",
        "\n",
        "# Print the number of companies in the list\n",
        "print(len(it_companies))  # 7\n",
        "\n",
        "# Print the first, middle and last company\n",
        "first_company = it_companies[0]\n",
        "middle_company = it_companies[len(it_companies) // 2]\n",
        "last_company = it_companies[-1]\n",
        "print(first_company, middle_company, last_company)  #Facebook Apple Amazon\n",
        "\n",
        "# Print the list after modifying one of the companies\n",
        "it_companies[1] = 'Alphabet'\n",
        "print(it_companies)  # ['Facebook', 'Alphabet', 'Microsoft', 'Apple', 'IBM', 'Oracle', 'Amazon']\n"
      ]
    }
  ]
}